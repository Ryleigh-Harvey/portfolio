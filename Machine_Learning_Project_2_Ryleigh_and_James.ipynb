{
  "nbformat": 4,
  "nbformat_minor": 0,
  "metadata": {
    "colab": {
      "provenance": [],
      "include_colab_link": true
    },
    "kernelspec": {
      "name": "python3",
      "display_name": "Python 3"
    },
    "language_info": {
      "name": "python"
    }
  },
  "cells": [
    {
      "cell_type": "markdown",
      "metadata": {
        "id": "view-in-github",
        "colab_type": "text"
      },
      "source": [
        "<a href=\"https://colab.research.google.com/github/Ryleigh-Harvey/portfolio/blob/main/Machine_Learning_Project_2_Ryleigh_and_James.ipynb\" target=\"_parent\"><img src=\"https://colab.research.google.com/assets/colab-badge.svg\" alt=\"Open In Colab\"/></a>"
      ]
    },
    {
      "cell_type": "markdown",
      "source": [
        "# Machine Learning Project - Workout Recommender\n",
        "### By: Ryleigh Harvey and James Maduako\n",
        "\n",
        "\n"
      ],
      "metadata": {
        "id": "WoGWrlQHwxjO"
      }
    },
    {
      "cell_type": "markdown",
      "source": [
        "Client's Request: Can you provide and recommend personalized workouts for different sports like boxing, wrestling, bodybuilding, powerlifting, and jiu-jitsu based on a user’s progress and feedback using reinforcement learning?"
      ],
      "metadata": {
        "id": "wgs1YCeadsKi"
      }
    },
    {
      "cell_type": "markdown",
      "source": [
        "**Introduction:**\n",
        "\n",
        "The goal of this project is to develop a machine learning-based workout recommender system. This system leverages both content-based filtering  and collabrative filtering. The dataset used in this project was created by us specifically to ensure that the system reflects particular user behaviors and workout preferences requested by our cilent. By building our own dataset, we were able to capture detailed user information, such as fitness level, workout type, and personal workout history. This allows for more accurate and personalized recommendations that cater to the unique needs of users.\n",
        "\n",
        "The dataset includes 'user_id', 'sport',  'fitness_level', 'goal', 'workout_type', 'duration', 'intensity', 'complete', 'reps_or_time', 'weight_lifted', 'satisfaction', 'fatigue', 'soreness', 'date','next_suggested_workout', 'reward', 'heart_rate', 'calories_burned', 'user_history', 'rating', enabling personalized workout suggestions."
      ],
      "metadata": {
        "id": "UyeuyiYDSNIY"
      }
    },
    {
      "cell_type": "code",
      "execution_count": null,
      "metadata": {
        "id": "S1CplwJjqdIg",
        "colab": {
          "base_uri": "https://localhost:8080/",
          "height": 513
        },
        "outputId": "1dc13690-2809-4b0d-b9c9-f302a744b03d"
      },
      "outputs": [
        {
          "output_type": "stream",
          "name": "stdout",
          "text": [
            "Mounted at /content/drive\n"
          ]
        },
        {
          "output_type": "execute_result",
          "data": {
            "text/plain": [
              "   user_id         sport fitness_level       goal            workout_type  \\\n",
              "0      196     Wrestling  Intermediate  Endurance                Mat Work   \n",
              "1       72  Bodybuilding      Advanced  Endurance  Incline Dumbbell Press   \n",
              "2      112     Jiu-Jitsu  Intermediate   Strength                 Rolling   \n",
              "3      370     Wrestling      Advanced   Strength                Mat Work   \n",
              "4       12  Bodybuilding      Beginner  Endurance  Incline Dumbbell Press   \n",
              "\n",
              "   duration  intensity  complete  reps_or_time  weight_lifted  satisfaction  \\\n",
              "0        61          3      True            12            NaN             4   \n",
              "1        64          3      True            15          107.0             1   \n",
              "2        45          3      True            25            NaN             2   \n",
              "3        99          2      True             7            NaN             5   \n",
              "4       101          3     False            28          141.0             2   \n",
              "\n",
              "   fatigue  soreness        date next_suggested_workout  reward  heart_rate  \\\n",
              "0        2     False  2024-02-12           Conditioning       2         134   \n",
              "1        2      True  2024-09-16            Bench Press      -1          94   \n",
              "2        5     False  2024-03-12   Flexibility Training      -3         124   \n",
              "3        3      True  2024-03-02               Mat Work       2         173   \n",
              "4        4     False  2024-08-01                  Squat      -2         175   \n",
              "\n",
              "   calories_burned                                       user_history  rating  \n",
              "0      1366.577372  ['Incline Dumbbell Press', 'Bench Press', 'Acc...       2  \n",
              "1      1215.805702  ['Deadlift', 'Conditioning', 'Bench Press', 'D...       1  \n",
              "2       917.937847  ['Drills', 'Accessory Work', 'Bag Work', 'Benc...       1  \n",
              "3      1354.288794  ['Bag Work', 'Incline Dumbbell Press', 'Shadow...       2  \n",
              "4      2079.166436  ['Squat', 'Sparring', 'Flexibility Training', ...       1  "
            ],
            "text/html": [
              "\n",
              "  <div id=\"df-8e820151-07ac-4ca8-99f0-034e62d8d204\" class=\"colab-df-container\">\n",
              "    <div>\n",
              "<style scoped>\n",
              "    .dataframe tbody tr th:only-of-type {\n",
              "        vertical-align: middle;\n",
              "    }\n",
              "\n",
              "    .dataframe tbody tr th {\n",
              "        vertical-align: top;\n",
              "    }\n",
              "\n",
              "    .dataframe thead th {\n",
              "        text-align: right;\n",
              "    }\n",
              "</style>\n",
              "<table border=\"1\" class=\"dataframe\">\n",
              "  <thead>\n",
              "    <tr style=\"text-align: right;\">\n",
              "      <th></th>\n",
              "      <th>user_id</th>\n",
              "      <th>sport</th>\n",
              "      <th>fitness_level</th>\n",
              "      <th>goal</th>\n",
              "      <th>workout_type</th>\n",
              "      <th>duration</th>\n",
              "      <th>intensity</th>\n",
              "      <th>complete</th>\n",
              "      <th>reps_or_time</th>\n",
              "      <th>weight_lifted</th>\n",
              "      <th>satisfaction</th>\n",
              "      <th>fatigue</th>\n",
              "      <th>soreness</th>\n",
              "      <th>date</th>\n",
              "      <th>next_suggested_workout</th>\n",
              "      <th>reward</th>\n",
              "      <th>heart_rate</th>\n",
              "      <th>calories_burned</th>\n",
              "      <th>user_history</th>\n",
              "      <th>rating</th>\n",
              "    </tr>\n",
              "  </thead>\n",
              "  <tbody>\n",
              "    <tr>\n",
              "      <th>0</th>\n",
              "      <td>196</td>\n",
              "      <td>Wrestling</td>\n",
              "      <td>Intermediate</td>\n",
              "      <td>Endurance</td>\n",
              "      <td>Mat Work</td>\n",
              "      <td>61</td>\n",
              "      <td>3</td>\n",
              "      <td>True</td>\n",
              "      <td>12</td>\n",
              "      <td>NaN</td>\n",
              "      <td>4</td>\n",
              "      <td>2</td>\n",
              "      <td>False</td>\n",
              "      <td>2024-02-12</td>\n",
              "      <td>Conditioning</td>\n",
              "      <td>2</td>\n",
              "      <td>134</td>\n",
              "      <td>1366.577372</td>\n",
              "      <td>['Incline Dumbbell Press', 'Bench Press', 'Acc...</td>\n",
              "      <td>2</td>\n",
              "    </tr>\n",
              "    <tr>\n",
              "      <th>1</th>\n",
              "      <td>72</td>\n",
              "      <td>Bodybuilding</td>\n",
              "      <td>Advanced</td>\n",
              "      <td>Endurance</td>\n",
              "      <td>Incline Dumbbell Press</td>\n",
              "      <td>64</td>\n",
              "      <td>3</td>\n",
              "      <td>True</td>\n",
              "      <td>15</td>\n",
              "      <td>107.0</td>\n",
              "      <td>1</td>\n",
              "      <td>2</td>\n",
              "      <td>True</td>\n",
              "      <td>2024-09-16</td>\n",
              "      <td>Bench Press</td>\n",
              "      <td>-1</td>\n",
              "      <td>94</td>\n",
              "      <td>1215.805702</td>\n",
              "      <td>['Deadlift', 'Conditioning', 'Bench Press', 'D...</td>\n",
              "      <td>1</td>\n",
              "    </tr>\n",
              "    <tr>\n",
              "      <th>2</th>\n",
              "      <td>112</td>\n",
              "      <td>Jiu-Jitsu</td>\n",
              "      <td>Intermediate</td>\n",
              "      <td>Strength</td>\n",
              "      <td>Rolling</td>\n",
              "      <td>45</td>\n",
              "      <td>3</td>\n",
              "      <td>True</td>\n",
              "      <td>25</td>\n",
              "      <td>NaN</td>\n",
              "      <td>2</td>\n",
              "      <td>5</td>\n",
              "      <td>False</td>\n",
              "      <td>2024-03-12</td>\n",
              "      <td>Flexibility Training</td>\n",
              "      <td>-3</td>\n",
              "      <td>124</td>\n",
              "      <td>917.937847</td>\n",
              "      <td>['Drills', 'Accessory Work', 'Bag Work', 'Benc...</td>\n",
              "      <td>1</td>\n",
              "    </tr>\n",
              "    <tr>\n",
              "      <th>3</th>\n",
              "      <td>370</td>\n",
              "      <td>Wrestling</td>\n",
              "      <td>Advanced</td>\n",
              "      <td>Strength</td>\n",
              "      <td>Mat Work</td>\n",
              "      <td>99</td>\n",
              "      <td>2</td>\n",
              "      <td>True</td>\n",
              "      <td>7</td>\n",
              "      <td>NaN</td>\n",
              "      <td>5</td>\n",
              "      <td>3</td>\n",
              "      <td>True</td>\n",
              "      <td>2024-03-02</td>\n",
              "      <td>Mat Work</td>\n",
              "      <td>2</td>\n",
              "      <td>173</td>\n",
              "      <td>1354.288794</td>\n",
              "      <td>['Bag Work', 'Incline Dumbbell Press', 'Shadow...</td>\n",
              "      <td>2</td>\n",
              "    </tr>\n",
              "    <tr>\n",
              "      <th>4</th>\n",
              "      <td>12</td>\n",
              "      <td>Bodybuilding</td>\n",
              "      <td>Beginner</td>\n",
              "      <td>Endurance</td>\n",
              "      <td>Incline Dumbbell Press</td>\n",
              "      <td>101</td>\n",
              "      <td>3</td>\n",
              "      <td>False</td>\n",
              "      <td>28</td>\n",
              "      <td>141.0</td>\n",
              "      <td>2</td>\n",
              "      <td>4</td>\n",
              "      <td>False</td>\n",
              "      <td>2024-08-01</td>\n",
              "      <td>Squat</td>\n",
              "      <td>-2</td>\n",
              "      <td>175</td>\n",
              "      <td>2079.166436</td>\n",
              "      <td>['Squat', 'Sparring', 'Flexibility Training', ...</td>\n",
              "      <td>1</td>\n",
              "    </tr>\n",
              "  </tbody>\n",
              "</table>\n",
              "</div>\n",
              "    <div class=\"colab-df-buttons\">\n",
              "\n",
              "  <div class=\"colab-df-container\">\n",
              "    <button class=\"colab-df-convert\" onclick=\"convertToInteractive('df-8e820151-07ac-4ca8-99f0-034e62d8d204')\"\n",
              "            title=\"Convert this dataframe to an interactive table.\"\n",
              "            style=\"display:none;\">\n",
              "\n",
              "  <svg xmlns=\"http://www.w3.org/2000/svg\" height=\"24px\" viewBox=\"0 -960 960 960\">\n",
              "    <path d=\"M120-120v-720h720v720H120Zm60-500h600v-160H180v160Zm220 220h160v-160H400v160Zm0 220h160v-160H400v160ZM180-400h160v-160H180v160Zm440 0h160v-160H620v160ZM180-180h160v-160H180v160Zm440 0h160v-160H620v160Z\"/>\n",
              "  </svg>\n",
              "    </button>\n",
              "\n",
              "  <style>\n",
              "    .colab-df-container {\n",
              "      display:flex;\n",
              "      gap: 12px;\n",
              "    }\n",
              "\n",
              "    .colab-df-convert {\n",
              "      background-color: #E8F0FE;\n",
              "      border: none;\n",
              "      border-radius: 50%;\n",
              "      cursor: pointer;\n",
              "      display: none;\n",
              "      fill: #1967D2;\n",
              "      height: 32px;\n",
              "      padding: 0 0 0 0;\n",
              "      width: 32px;\n",
              "    }\n",
              "\n",
              "    .colab-df-convert:hover {\n",
              "      background-color: #E2EBFA;\n",
              "      box-shadow: 0px 1px 2px rgba(60, 64, 67, 0.3), 0px 1px 3px 1px rgba(60, 64, 67, 0.15);\n",
              "      fill: #174EA6;\n",
              "    }\n",
              "\n",
              "    .colab-df-buttons div {\n",
              "      margin-bottom: 4px;\n",
              "    }\n",
              "\n",
              "    [theme=dark] .colab-df-convert {\n",
              "      background-color: #3B4455;\n",
              "      fill: #D2E3FC;\n",
              "    }\n",
              "\n",
              "    [theme=dark] .colab-df-convert:hover {\n",
              "      background-color: #434B5C;\n",
              "      box-shadow: 0px 1px 3px 1px rgba(0, 0, 0, 0.15);\n",
              "      filter: drop-shadow(0px 1px 2px rgba(0, 0, 0, 0.3));\n",
              "      fill: #FFFFFF;\n",
              "    }\n",
              "  </style>\n",
              "\n",
              "    <script>\n",
              "      const buttonEl =\n",
              "        document.querySelector('#df-8e820151-07ac-4ca8-99f0-034e62d8d204 button.colab-df-convert');\n",
              "      buttonEl.style.display =\n",
              "        google.colab.kernel.accessAllowed ? 'block' : 'none';\n",
              "\n",
              "      async function convertToInteractive(key) {\n",
              "        const element = document.querySelector('#df-8e820151-07ac-4ca8-99f0-034e62d8d204');\n",
              "        const dataTable =\n",
              "          await google.colab.kernel.invokeFunction('convertToInteractive',\n",
              "                                                    [key], {});\n",
              "        if (!dataTable) return;\n",
              "\n",
              "        const docLinkHtml = 'Like what you see? Visit the ' +\n",
              "          '<a target=\"_blank\" href=https://colab.research.google.com/notebooks/data_table.ipynb>data table notebook</a>'\n",
              "          + ' to learn more about interactive tables.';\n",
              "        element.innerHTML = '';\n",
              "        dataTable['output_type'] = 'display_data';\n",
              "        await google.colab.output.renderOutput(dataTable, element);\n",
              "        const docLink = document.createElement('div');\n",
              "        docLink.innerHTML = docLinkHtml;\n",
              "        element.appendChild(docLink);\n",
              "      }\n",
              "    </script>\n",
              "  </div>\n",
              "\n",
              "\n",
              "<div id=\"df-f017d103-bd71-4338-8b3d-167e0b174abc\">\n",
              "  <button class=\"colab-df-quickchart\" onclick=\"quickchart('df-f017d103-bd71-4338-8b3d-167e0b174abc')\"\n",
              "            title=\"Suggest charts\"\n",
              "            style=\"display:none;\">\n",
              "\n",
              "<svg xmlns=\"http://www.w3.org/2000/svg\" height=\"24px\"viewBox=\"0 0 24 24\"\n",
              "     width=\"24px\">\n",
              "    <g>\n",
              "        <path d=\"M19 3H5c-1.1 0-2 .9-2 2v14c0 1.1.9 2 2 2h14c1.1 0 2-.9 2-2V5c0-1.1-.9-2-2-2zM9 17H7v-7h2v7zm4 0h-2V7h2v10zm4 0h-2v-4h2v4z\"/>\n",
              "    </g>\n",
              "</svg>\n",
              "  </button>\n",
              "\n",
              "<style>\n",
              "  .colab-df-quickchart {\n",
              "      --bg-color: #E8F0FE;\n",
              "      --fill-color: #1967D2;\n",
              "      --hover-bg-color: #E2EBFA;\n",
              "      --hover-fill-color: #174EA6;\n",
              "      --disabled-fill-color: #AAA;\n",
              "      --disabled-bg-color: #DDD;\n",
              "  }\n",
              "\n",
              "  [theme=dark] .colab-df-quickchart {\n",
              "      --bg-color: #3B4455;\n",
              "      --fill-color: #D2E3FC;\n",
              "      --hover-bg-color: #434B5C;\n",
              "      --hover-fill-color: #FFFFFF;\n",
              "      --disabled-bg-color: #3B4455;\n",
              "      --disabled-fill-color: #666;\n",
              "  }\n",
              "\n",
              "  .colab-df-quickchart {\n",
              "    background-color: var(--bg-color);\n",
              "    border: none;\n",
              "    border-radius: 50%;\n",
              "    cursor: pointer;\n",
              "    display: none;\n",
              "    fill: var(--fill-color);\n",
              "    height: 32px;\n",
              "    padding: 0;\n",
              "    width: 32px;\n",
              "  }\n",
              "\n",
              "  .colab-df-quickchart:hover {\n",
              "    background-color: var(--hover-bg-color);\n",
              "    box-shadow: 0 1px 2px rgba(60, 64, 67, 0.3), 0 1px 3px 1px rgba(60, 64, 67, 0.15);\n",
              "    fill: var(--button-hover-fill-color);\n",
              "  }\n",
              "\n",
              "  .colab-df-quickchart-complete:disabled,\n",
              "  .colab-df-quickchart-complete:disabled:hover {\n",
              "    background-color: var(--disabled-bg-color);\n",
              "    fill: var(--disabled-fill-color);\n",
              "    box-shadow: none;\n",
              "  }\n",
              "\n",
              "  .colab-df-spinner {\n",
              "    border: 2px solid var(--fill-color);\n",
              "    border-color: transparent;\n",
              "    border-bottom-color: var(--fill-color);\n",
              "    animation:\n",
              "      spin 1s steps(1) infinite;\n",
              "  }\n",
              "\n",
              "  @keyframes spin {\n",
              "    0% {\n",
              "      border-color: transparent;\n",
              "      border-bottom-color: var(--fill-color);\n",
              "      border-left-color: var(--fill-color);\n",
              "    }\n",
              "    20% {\n",
              "      border-color: transparent;\n",
              "      border-left-color: var(--fill-color);\n",
              "      border-top-color: var(--fill-color);\n",
              "    }\n",
              "    30% {\n",
              "      border-color: transparent;\n",
              "      border-left-color: var(--fill-color);\n",
              "      border-top-color: var(--fill-color);\n",
              "      border-right-color: var(--fill-color);\n",
              "    }\n",
              "    40% {\n",
              "      border-color: transparent;\n",
              "      border-right-color: var(--fill-color);\n",
              "      border-top-color: var(--fill-color);\n",
              "    }\n",
              "    60% {\n",
              "      border-color: transparent;\n",
              "      border-right-color: var(--fill-color);\n",
              "    }\n",
              "    80% {\n",
              "      border-color: transparent;\n",
              "      border-right-color: var(--fill-color);\n",
              "      border-bottom-color: var(--fill-color);\n",
              "    }\n",
              "    90% {\n",
              "      border-color: transparent;\n",
              "      border-bottom-color: var(--fill-color);\n",
              "    }\n",
              "  }\n",
              "</style>\n",
              "\n",
              "  <script>\n",
              "    async function quickchart(key) {\n",
              "      const quickchartButtonEl =\n",
              "        document.querySelector('#' + key + ' button');\n",
              "      quickchartButtonEl.disabled = true;  // To prevent multiple clicks.\n",
              "      quickchartButtonEl.classList.add('colab-df-spinner');\n",
              "      try {\n",
              "        const charts = await google.colab.kernel.invokeFunction(\n",
              "            'suggestCharts', [key], {});\n",
              "      } catch (error) {\n",
              "        console.error('Error during call to suggestCharts:', error);\n",
              "      }\n",
              "      quickchartButtonEl.classList.remove('colab-df-spinner');\n",
              "      quickchartButtonEl.classList.add('colab-df-quickchart-complete');\n",
              "    }\n",
              "    (() => {\n",
              "      let quickchartButtonEl =\n",
              "        document.querySelector('#df-f017d103-bd71-4338-8b3d-167e0b174abc button');\n",
              "      quickchartButtonEl.style.display =\n",
              "        google.colab.kernel.accessAllowed ? 'block' : 'none';\n",
              "    })();\n",
              "  </script>\n",
              "</div>\n",
              "\n",
              "    </div>\n",
              "  </div>\n"
            ],
            "application/vnd.google.colaboratory.intrinsic+json": {
              "type": "dataframe",
              "variable_name": "data",
              "summary": "{\n  \"name\": \"data\",\n  \"rows\": 5000,\n  \"fields\": [\n    {\n      \"column\": \"user_id\",\n      \"properties\": {\n        \"dtype\": \"number\",\n        \"std\": 116,\n        \"min\": 1,\n        \"max\": 400,\n        \"num_unique_values\": 400,\n        \"samples\": [\n          269,\n          317,\n          382\n        ],\n        \"semantic_type\": \"\",\n        \"description\": \"\"\n      }\n    },\n    {\n      \"column\": \"sport\",\n      \"properties\": {\n        \"dtype\": \"category\",\n        \"num_unique_values\": 5,\n        \"samples\": [\n          \"Bodybuilding\",\n          \"Boxing\",\n          \"Jiu-Jitsu\"\n        ],\n        \"semantic_type\": \"\",\n        \"description\": \"\"\n      }\n    },\n    {\n      \"column\": \"fitness_level\",\n      \"properties\": {\n        \"dtype\": \"category\",\n        \"num_unique_values\": 3,\n        \"samples\": [\n          \"Intermediate\",\n          \"Advanced\",\n          \"Beginner\"\n        ],\n        \"semantic_type\": \"\",\n        \"description\": \"\"\n      }\n    },\n    {\n      \"column\": \"goal\",\n      \"properties\": {\n        \"dtype\": \"category\",\n        \"num_unique_values\": 4,\n        \"samples\": [\n          \"Strength\",\n          \"Technique Improvement\",\n          \"Endurance\"\n        ],\n        \"semantic_type\": \"\",\n        \"description\": \"\"\n      }\n    },\n    {\n      \"column\": \"workout_type\",\n      \"properties\": {\n        \"dtype\": \"category\",\n        \"num_unique_values\": 14,\n        \"samples\": [\n          \"Shadowboxing\",\n          \"Sparring\",\n          \"Mat Work\"\n        ],\n        \"semantic_type\": \"\",\n        \"description\": \"\"\n      }\n    },\n    {\n      \"column\": \"duration\",\n      \"properties\": {\n        \"dtype\": \"number\",\n        \"std\": 29,\n        \"min\": 20,\n        \"max\": 120,\n        \"num_unique_values\": 101,\n        \"samples\": [\n          89,\n          79,\n          112\n        ],\n        \"semantic_type\": \"\",\n        \"description\": \"\"\n      }\n    },\n    {\n      \"column\": \"intensity\",\n      \"properties\": {\n        \"dtype\": \"number\",\n        \"std\": 1,\n        \"min\": 1,\n        \"max\": 5,\n        \"num_unique_values\": 5,\n        \"samples\": [\n          2,\n          4,\n          1\n        ],\n        \"semantic_type\": \"\",\n        \"description\": \"\"\n      }\n    },\n    {\n      \"column\": \"complete\",\n      \"properties\": {\n        \"dtype\": \"boolean\",\n        \"num_unique_values\": 2,\n        \"samples\": [\n          false,\n          true\n        ],\n        \"semantic_type\": \"\",\n        \"description\": \"\"\n      }\n    },\n    {\n      \"column\": \"reps_or_time\",\n      \"properties\": {\n        \"dtype\": \"number\",\n        \"std\": 81,\n        \"min\": 1,\n        \"max\": 500,\n        \"num_unique_values\": 331,\n        \"samples\": [\n          27,\n          114\n        ],\n        \"semantic_type\": \"\",\n        \"description\": \"\"\n      }\n    },\n    {\n      \"column\": \"weight_lifted\",\n      \"properties\": {\n        \"dtype\": \"number\",\n        \"std\": 37.906468241982346,\n        \"min\": 20.0,\n        \"max\": 150.0,\n        \"num_unique_values\": 131,\n        \"samples\": [\n          96.0,\n          23.0\n        ],\n        \"semantic_type\": \"\",\n        \"description\": \"\"\n      }\n    },\n    {\n      \"column\": \"satisfaction\",\n      \"properties\": {\n        \"dtype\": \"number\",\n        \"std\": 1,\n        \"min\": 1,\n        \"max\": 5,\n        \"num_unique_values\": 5,\n        \"samples\": [\n          1,\n          3\n        ],\n        \"semantic_type\": \"\",\n        \"description\": \"\"\n      }\n    },\n    {\n      \"column\": \"fatigue\",\n      \"properties\": {\n        \"dtype\": \"number\",\n        \"std\": 1,\n        \"min\": 1,\n        \"max\": 5,\n        \"num_unique_values\": 5,\n        \"samples\": [\n          5,\n          1\n        ],\n        \"semantic_type\": \"\",\n        \"description\": \"\"\n      }\n    },\n    {\n      \"column\": \"soreness\",\n      \"properties\": {\n        \"dtype\": \"boolean\",\n        \"num_unique_values\": 2,\n        \"samples\": [\n          true,\n          false\n        ],\n        \"semantic_type\": \"\",\n        \"description\": \"\"\n      }\n    },\n    {\n      \"column\": \"date\",\n      \"properties\": {\n        \"dtype\": \"object\",\n        \"num_unique_values\": 366,\n        \"samples\": [\n          \"2024-01-12\",\n          \"2024-01-30\"\n        ],\n        \"semantic_type\": \"\",\n        \"description\": \"\"\n      }\n    },\n    {\n      \"column\": \"next_suggested_workout\",\n      \"properties\": {\n        \"dtype\": \"category\",\n        \"num_unique_values\": 14,\n        \"samples\": [\n          \"Drills\",\n          \"Sparring\"\n        ],\n        \"semantic_type\": \"\",\n        \"description\": \"\"\n      }\n    },\n    {\n      \"column\": \"reward\",\n      \"properties\": {\n        \"dtype\": \"number\",\n        \"std\": 1,\n        \"min\": -4,\n        \"max\": 4,\n        \"num_unique_values\": 9,\n        \"samples\": [\n          4,\n          -1\n        ],\n        \"semantic_type\": \"\",\n        \"description\": \"\"\n      }\n    },\n    {\n      \"column\": \"heart_rate\",\n      \"properties\": {\n        \"dtype\": \"number\",\n        \"std\": 34,\n        \"min\": 60,\n        \"max\": 180,\n        \"num_unique_values\": 121,\n        \"samples\": [\n          119,\n          139\n        ],\n        \"semantic_type\": \"\",\n        \"description\": \"\"\n      }\n    },\n    {\n      \"column\": \"calories_burned\",\n      \"properties\": {\n        \"dtype\": \"number\",\n        \"std\": 1103.9750489042467,\n        \"min\": 108.59484722019376,\n        \"max\": 5991.9281830765285,\n        \"num_unique_values\": 5000,\n        \"samples\": [\n          4194.7652032445885,\n          1840.5870336043424\n        ],\n        \"semantic_type\": \"\",\n        \"description\": \"\"\n      }\n    },\n    {\n      \"column\": \"user_history\",\n      \"properties\": {\n        \"dtype\": \"string\",\n        \"num_unique_values\": 4945,\n        \"samples\": [\n          \"['Mat Work', 'Sparring', 'Flexibility Training', 'Deadlift', 'Conditioning']\",\n          \"['Incline Dumbbell Press', 'Rolling', 'Accessory Work', 'Conditioning', 'Squat']\"\n        ],\n        \"semantic_type\": \"\",\n        \"description\": \"\"\n      }\n    },\n    {\n      \"column\": \"rating\",\n      \"properties\": {\n        \"dtype\": \"number\",\n        \"std\": 0,\n        \"min\": 1,\n        \"max\": 3,\n        \"num_unique_values\": 3,\n        \"samples\": [\n          2,\n          1\n        ],\n        \"semantic_type\": \"\",\n        \"description\": \"\"\n      }\n    }\n  ]\n}"
            }
          },
          "metadata": {},
          "execution_count": 1
        }
      ],
      "source": [
        "#Import necessary libraries\n",
        "import pandas as pd\n",
        "from google.colab import drive\n",
        "import matplotlib.pyplot as plt\n",
        "from sklearn.metrics.pairwise import cosine_similarity\n",
        "from sklearn.feature_extraction.text import TfidfVectorizer\n",
        "from scipy.sparse import csr_matrix\n",
        "import numpy as np\n",
        "from sklearn.neighbors import NearestNeighbors\n",
        "\n",
        "# Mount Google Drive to access the dataset\n",
        "drive.mount('/content/drive')\n",
        "data = pd.read_csv('/content/drive/My Drive/Colab Notebooks/workout_data-3.csv')\n",
        "\n",
        "#rename columns\n",
        "data.columns = ['user_id','sport', 'fitness_level', 'goal', 'workout_type','duration',\n",
        "                'intensity','complete','reps_or_time','weight_lifted','satisfaction','fatigue',\n",
        "                'soreness','date','next_suggested_workout','reward','heart_rate','calories_burned','user_history', 'rating']\n",
        "\n",
        "# Extracting user_id, workout_type, and rating columns for matrix creation later\n",
        "ratings = data[['user_id', 'workout_type', 'rating']]\n",
        "\n",
        "# Displaying the dataset\n",
        "data.head()"
      ]
    },
    {
      "cell_type": "code",
      "source": [
        "data.shape #showing the shape of the dataset"
      ],
      "metadata": {
        "colab": {
          "base_uri": "https://localhost:8080/"
        },
        "id": "4gee6BdpDMX0",
        "outputId": "79670e45-b76c-4a0e-b679-f64e9108bc94"
      },
      "execution_count": null,
      "outputs": [
        {
          "output_type": "execute_result",
          "data": {
            "text/plain": [
              "(5000, 20)"
            ]
          },
          "metadata": {},
          "execution_count": 2
        }
      ]
    },
    {
      "cell_type": "code",
      "source": [
        "# Plot the distribution of the fitness levels among the users\n",
        "data['fitness_level'].value_counts().plot(kind='bar', color='lightblue')\n",
        "plt.title('Distribution of Users by Fitness Level')\n",
        "plt.xlabel('Fitness Level')\n",
        "plt.ylabel('Count')\n",
        "plt.show()"
      ],
      "metadata": {
        "colab": {
          "base_uri": "https://localhost:8080/",
          "height": 547
        },
        "id": "BOS61JnQ2nHU",
        "outputId": "e8a08719-054a-4884-d072-ff23fa66a191"
      },
      "execution_count": null,
      "outputs": [
        {
          "output_type": "display_data",
          "data": {
            "text/plain": [
              "<Figure size 640x480 with 1 Axes>"
            ],
            "image/png": "[encoded data removed]"
          },
          "metadata": {}
        }
      ]
    },
    {
      "cell_type": "code",
      "source": [
        "# Plot the distribution of workout types in the dataset\n",
        "data['workout_type'].value_counts().plot(kind='pie', autopct='%1.1f%%', colors=['yellow','lightblue', 'lightgreen', 'salmon'])\n",
        "plt.title('Distribution of Workout Types')\n",
        "plt.ylabel('')\n",
        "plt.show()\n"
      ],
      "metadata": {
        "colab": {
          "base_uri": "https://localhost:8080/",
          "height": 428
        },
        "id": "pt4FqktL3Aep",
        "outputId": "a63c1f85-5473-46cb-e7df-949c3492bb9c"
      },
      "execution_count": null,
      "outputs": [
        {
          "output_type": "display_data",
          "data": {
            "text/plain": [
              "<Figure size 640x480 with 1 Axes>"
            ],
            "image/png": "[encoded data removed]"
          },
          "metadata": {}
        }
      ]
    },
    {
      "cell_type": "markdown",
      "source": [
        "## Methods and Approaches\n",
        "The workout recommender system employs two primary recommendation techniques: content-based filtering and collaborative filtering.\n",
        "\n",
        "- Content-Based Filtering:\n",
        "\n",
        "  This approach assumes that users who liked certain workouts in the past are likely to enjoy similar ones in the future, especially workouts that match their specific sport or criteria. This method is simple and effective, ensuring that recommentaions are personalized based on a user's characteristics and goals. One major limiataion of conetnt-based filering is that it can only recommed=nd workouts that match the user;s current perfernces,and may not expose users to new or diverse workouts outside their typical choices. It dependent on having accurate and sufficient metadata for each workout.\n",
        "\n",
        "- Collaborative Filtering:\n",
        "\n",
        "  This approach uses the concept of user similarity to recommend workouts based on the behavior or preferences of similar users. The system analyzes the user history, such as previousy completed workouts, and computes similarity scores using techniques like cosine similarity or nearest neighbors. One possible limaitaion would be the system struggling to make recommendations for new users or items because of insufficient interaction data.\n",
        "\n",
        "- Combining Methods:\n",
        "\n",
        "  By combining both content-based and collaborative filtering methods, the system benefits from hybridization, addressing some of the individual weaknesses of each technique.This method can allow more robust and diverse recommendations,while also producing more accurate and varied recommendations. Potential issues could be redundancy.\n",
        "\n",
        "- Matrix-Based Collaborative Filtering:\n",
        "\n",
        "  This approach constructs a user-item rating matrix, enabling a Nearest Neighbors model to find similar workouts. It recommends workouts based on user similarity scores from the matrix, allowing fine-tuned recommendations based on user feedback and ratings."
      ],
      "metadata": {
        "id": "jNRUiGx1w_6w"
      }
    },
    {
      "cell_type": "markdown",
      "source": [
        "**Content-Based Filtering**"
      ],
      "metadata": {
        "id": "DP2OQQdQiViZ"
      }
    },
    {
      "cell_type": "code",
      "source": [
        "# Content-based Recommender Function\n",
        "def content_based_recommender(user_id, data):\n",
        "    user_data = data[data['user_id'] == user_id]\n",
        "    fitness_level = user_data.iloc[0]['fitness_level']\n",
        "    workout_type = user_data.iloc[0]['workout_type']\n",
        "\n",
        "    # Filter dataset for workouts matching user's fitness level and workout preference\n",
        "    recommended_workouts = data[(data['fitness_level'] == fitness_level) &\n",
        "                              (data['workout_type'] == workout_type)]\n",
        "    return recommended_workouts"
      ],
      "metadata": {
        "id": "zEoTBXeoGVT0"
      },
      "execution_count": null,
      "outputs": []
    },
    {
      "cell_type": "code",
      "source": [
        "#Testing the recommenders with user ID 1\n",
        "content_recs = content_based_recommender(data['user_id']==1 ,data)\n",
        "print(content_recs)"
      ],
      "metadata": {
        "colab": {
          "base_uri": "https://localhost:8080/"
        },
        "id": "pBEJMIWUvu1K",
        "outputId": "cf9ce265-fc69-4cf5-8c87-f20d0ef7aa6a",
        "collapsed": true
      },
      "execution_count": null,
      "outputs": [
        {
          "output_type": "stream",
          "name": "stdout",
          "text": [
            "      user_id      sport fitness_level                   goal  workout_type  \\\n",
            "10        396  Wrestling  Intermediate               Strength  Conditioning   \n",
            "105       113     Boxing  Intermediate  Technique Improvement  Conditioning   \n",
            "150       105  Wrestling  Intermediate            Hypertrophy  Conditioning   \n",
            "156       165  Wrestling  Intermediate               Strength  Conditioning   \n",
            "190       329     Boxing  Intermediate            Hypertrophy  Conditioning   \n",
            "...       ...        ...           ...                    ...           ...   \n",
            "4841      165     Boxing  Intermediate              Endurance  Conditioning   \n",
            "4842      105  Wrestling  Intermediate               Strength  Conditioning   \n",
            "4854      186  Wrestling  Intermediate               Strength  Conditioning   \n",
            "4872      245     Boxing  Intermediate  Technique Improvement  Conditioning   \n",
            "4984      305  Wrestling  Intermediate            Hypertrophy  Conditioning   \n",
            "\n",
            "      duration  intensity  complete  reps_or_time  weight_lifted  \\\n",
            "10          71          2      True            26            NaN   \n",
            "105         79          4     False            27            NaN   \n",
            "150         63          3      True            24            NaN   \n",
            "156        113          4     False            25            NaN   \n",
            "190         64          1     False            24            NaN   \n",
            "...        ...        ...       ...           ...            ...   \n",
            "4841       120          2      True            17            NaN   \n",
            "4842       119          2     False            29            NaN   \n",
            "4854        89          3      True            12            NaN   \n",
            "4872        47          1     False            30            NaN   \n",
            "4984        22          3     False            14            NaN   \n",
            "\n",
            "      satisfaction  fatigue  soreness        date next_suggested_workout  \\\n",
            "10               5        1     False  2024-09-19        Takedown Drills   \n",
            "105              2        4      True  2024-07-28           Conditioning   \n",
            "150              5        1     False  2024-08-03               Mat Work   \n",
            "156              3        5     False  2024-05-03        Takedown Drills   \n",
            "190              2        3     False  2024-08-14               Bag Work   \n",
            "...            ...      ...       ...         ...                    ...   \n",
            "4841             2        1      True  2024-04-11           Shadowboxing   \n",
            "4842             1        1     False  2024-02-12               Mat Work   \n",
            "4854             1        4      True  2024-01-28        Takedown Drills   \n",
            "4872             4        5      True  2024-02-12           Shadowboxing   \n",
            "4984             1        1      True  2024-07-23           Conditioning   \n",
            "\n",
            "      reward  heart_rate  calories_burned  \\\n",
            "10         4         152       938.507871   \n",
            "105       -2         114      1604.520740   \n",
            "150        4         120      1085.417647   \n",
            "156       -2         134      3075.652100   \n",
            "190       -1         135       567.725224   \n",
            "...      ...         ...              ...   \n",
            "4841       1         124      1304.375520   \n",
            "4842       0          91      1535.665663   \n",
            "4854      -3          93      1402.392067   \n",
            "4872      -1         148       354.645582   \n",
            "4984       0         169       511.806452   \n",
            "\n",
            "                                           user_history  rating  \n",
            "10    ['Squat', 'Flexibility Training', 'Conditionin...       3  \n",
            "105   ['Shadowboxing', 'Squat', 'Takedown Drills', '...       1  \n",
            "150   ['Conditioning', 'Squat', 'Bench Press', 'Cond...       3  \n",
            "156   ['Flexibility Training', 'Drills', 'Bag Work',...       1  \n",
            "190   ['Bench Press', 'Conditioning', 'Accessory Wor...       1  \n",
            "...                                                 ...     ...  \n",
            "4841  ['Bench Press', 'Bench Press', 'Bag Work', 'Fl...       2  \n",
            "4842  ['Sparring', 'Bag Work', 'Conditioning', 'Dril...       1  \n",
            "4854  ['Deadlift', 'Conditioning', 'Takedown Drills'...       1  \n",
            "4872  ['Takedown Drills', 'Drills', 'Deadlift', 'Rol...       1  \n",
            "4984  ['Shadowboxing', 'Incline Dumbbell Press', 'Ba...       1  \n",
            "\n",
            "[178 rows x 20 columns]\n"
          ]
        }
      ]
    },
    {
      "cell_type": "markdown",
      "source": [
        "**Collaborative Filtering**"
      ],
      "metadata": {
        "id": "p5nNcvaKid4_"
      }
    },
    {
      "cell_type": "code",
      "source": [
        "# Collaborative filtering - User Similarity Based Recommender\n",
        "def collaborative_recommender(user_id, data):\n",
        "    # Convert user history inro a format suitable for similarity calculation\n",
        "    tfidf = TfidfVectorizer(tokenizer=lambda x: x, lowercase=False)\n",
        "    tfidf_matrix = tfidf.fit_transform(data['user_history'])\n",
        "    cosine_sim = cosine_similarity(tfidf_matrix, tfidf_matrix)\n",
        "\n",
        "    # Identify the index of  the user in the dataset\n",
        "    user_index = data.index[data['user_id'] == user_id][0]\n",
        "\n",
        "    # Sort similarity scores and select top similar users\n",
        "    sim_scores = list(enumerate(cosine_sim[user_index]))\n",
        "    sim_scores = sorted(sim_scores, key=lambda x: x[1], reverse=True)\n",
        "\n",
        "    similar_users = [i[0] for i in sim_scores[1:3]]  # Get top 2 similar users\n",
        "    recommended_workouts = data.iloc[similar_users]\n",
        "    return recommended_workouts"
      ],
      "metadata": {
        "id": "KnuVVCsQr9Jm"
      },
      "execution_count": null,
      "outputs": []
    },
    {
      "cell_type": "code",
      "source": [
        "collab = collaborative_recommender(data['user_id']==1 ,data)\n",
        "print(collab)"
      ],
      "metadata": {
        "colab": {
          "base_uri": "https://localhost:8080/"
        },
        "collapsed": true,
        "id": "NPeDLb_PV7Rl",
        "outputId": "662d1af9-61b2-40c9-c443-8890910beef5"
      },
      "execution_count": null,
      "outputs": [
        {
          "output_type": "stream",
          "name": "stderr",
          "text": [
            "/usr/local/lib/python3.10/dist-packages/sklearn/feature_extraction/text.py:521: UserWarning: The parameter 'token_pattern' will not be used since 'tokenizer' is not None'\n",
            "  warnings.warn(\n"
          ]
        },
        {
          "output_type": "stream",
          "name": "stdout",
          "text": [
            "      user_id         sport fitness_level                   goal  \\\n",
            "1692      163        Boxing      Advanced  Technique Improvement   \n",
            "1048      155  Bodybuilding      Advanced              Endurance   \n",
            "\n",
            "      workout_type  duration  intensity  complete  reps_or_time  \\\n",
            "1692  Conditioning        58          4      True            16   \n",
            "1048         Squat        49          4      True             5   \n",
            "\n",
            "      weight_lifted  satisfaction  fatigue  soreness        date  \\\n",
            "1692            NaN             2        2     False  2024-06-03   \n",
            "1048          101.0             2        5     False  2024-12-10   \n",
            "\n",
            "     next_suggested_workout  reward  heart_rate  calories_burned  \\\n",
            "1692           Conditioning       0          99      1234.115836   \n",
            "1048            Bench Press      -3          95       989.518416   \n",
            "\n",
            "                                           user_history  rating  \n",
            "1692  ['Bag Work', 'Accessory Work', 'Takedown Drill...       1  \n",
            "1048  ['Deadlift', 'Mat Work', 'Bench Press', 'Bag W...       1  \n"
          ]
        }
      ]
    },
    {
      "cell_type": "markdown",
      "source": [
        "**Combining methods**\n"
      ],
      "metadata": {
        "id": "XOcICYMXycTV"
      }
    },
    {
      "cell_type": "code",
      "source": [
        "#Combined Recommender Function\n",
        "def recommend_workouts(user_id, data):\n",
        "    # Get recommendations from both methods\n",
        "    content_recs = content_based_recommender(user_id, data)\n",
        "    collab_recs = collaborative_recommender(user_id, data)\n",
        "\n",
        "    # Combine recommendations, removing duplicates\n",
        "    combined_recs = pd.concat([content_recs, collab_recs]).drop_duplicates()\n",
        "    return combined_recs\n"
      ],
      "metadata": {
        "id": "ZXcMqtxGsvpC"
      },
      "execution_count": null,
      "outputs": []
    },
    {
      "cell_type": "markdown",
      "source": [
        "**Matrix-Based Collaborative Filtering**"
      ],
      "metadata": {
        "id": "oCb-clcOispL"
      }
    },
    {
      "cell_type": "code",
      "source": [
        "# Recommendation for similar workouts based on workout_id\n",
        "def find_similar_workouts(workout_id, X, k=5, metric='cosine', show_distance=False):\n",
        "    workout_ind = workout_mapper[workout_id]\n",
        "    workout_vec = X[workout_ind]\n",
        "    # Nearest Neighbor model for similar workout recommendations\n",
        "    kNN = NearestNeighbors(n_neighbors=k+1, algorithm=\"brute\", metric=metric)\n",
        "    kNN.fit(X)\n",
        "    workout_vec = workout_vec.reshape(1, -1)\n",
        "    neighbour = kNN.kneighbors(workout_vec, return_distance=show_distance)\n",
        "\n",
        "    neighbour_ids = [workout_inv_mapper[neighbour[1][0][i]] for i in range(1, k+1)]\n",
        "    return neighbour_ids"
      ],
      "metadata": {
        "id": "y0rsaW--Oyms"
      },
      "execution_count": null,
      "outputs": []
    },
    {
      "cell_type": "code",
      "source": [
        "# Matrix Creation Function for Collabrative Filtering\n",
        "def create_matrix(data):\n",
        "  # Mapping user and workout IDs for matrix construction\n",
        "    user_mapper = {user: idx for idx, user in enumerate(data['user_id'].unique())}\n",
        "    workout_mapper = {workout: idx for idx, workout in enumerate(data['workout_type'].unique())}\n",
        "    user_inv_mapper = {v: k for k, v in user_mapper.items()}\n",
        "    workout_inv_mapper = {v: k for k, v in workout_mapper.items()}\n",
        "\n",
        "  # Matrix indices based on user and workout mapping\n",
        "    user_index = [user_mapper[i] for i in data['user_id']]\n",
        "    workout_index = [workout_mapper[i] for i in data['workout_type']]\n",
        "\n",
        "  # Create a sparse matrix of ratings\n",
        "    X = csr_matrix((data[\"rating\"], (workout_index, user_index)), shape=(len(workout_mapper), len(user_mapper)))\n",
        "    return X, user_mapper, workout_mapper, user_inv_mapper, workout_inv_mapper\n",
        "\n",
        "# Generate the user-item matrix for collaborative filtering\n",
        "X, user_mapper, workout_mapper, user_inv_mapper, workout_inv_mapper = create_matrix(ratings)\n"
      ],
      "metadata": {
        "id": "vT7qh9LqOf9Y"
      },
      "execution_count": null,
      "outputs": []
    },
    {
      "cell_type": "code",
      "source": [
        "# Recommend workouts for a user\n",
        "def recommend_workouts_for_user(user_id, X, user_mapper, workout_mapper, workout_inv_mapper, k=10):\n",
        "    user_ind = user_mapper[user_id]\n",
        "    user_vec = X[:, user_ind].toarray().reshape(-1)\n",
        "    # get top k recommended workout indices\n",
        "    workout_indices = user_vec.argsort()[-k:][::-1]\n",
        "    workout_ids = [workout_inv_mapper[i] for i in workout_indices]\n",
        "\n",
        "    return workout_ids"
      ],
      "metadata": {
        "id": "gU6YAx9bOzkT"
      },
      "execution_count": null,
      "outputs": []
    },
    {
      "cell_type": "code",
      "source": [
        "# Retrieve all unique user IDs from the dataset\n",
        "user_ids = data['user_id'].unique()\n",
        "\n",
        "# Create a dictionary mapping sport to workout_type from the dataset\n",
        "workout_titles = dict(zip(data['sport'], data['workout_type']))\n",
        "\n",
        "# Function to recommend and print workouts for multiple users\n",
        "def recommend_workouts_for_multiple_users(user_ids, X, user_mapper, workout_inv_mapper, data, k=5):\n",
        "    all_recommendations = {}\n",
        "\n",
        "    for user_id in user_ids:\n",
        "        # Check if the user exists in the user_mapper\n",
        "        if user_id in user_mapper:\n",
        "            recommended_workouts = recommend_workouts_for_user(user_id, X, user_mapper, workout_mapper, workout_inv_mapper, k)\n",
        "\n",
        "            # Map workout IDs to titles using the data\n",
        "            workout_names = [workout_titles.get(workout_id, f\"Workout ID {workout_id}\") for workout_id in recommended_workouts]\n",
        "            all_recommendations[user_id] = workout_names\n",
        "\n",
        "            # Retrieve the user's sport from the dataset\n",
        "            user_sport = data.loc[data['user_id'] == user_id, 'sport'].iloc[0]\n",
        "            # Print recommendations\n",
        "            #print(f\"\\nRecommended Workouts for User ID {user_id} (Sport:{user_sport}):\")\n",
        "            #for workout_name in workout_names:\n",
        "                #print(f\"- {workout_name}\")\n",
        "                #print(workout_name)\n",
        "        else:\n",
        "            print(f\"User ID {user_id} not found in the user_mapper.\")\n",
        "\n",
        "    return all_recommendations\n",
        "\n",
        "# Generate and print recommendations for each user\n",
        "all_recommendations = recommend_workouts_for_multiple_users(user_ids, X, user_mapper, workout_inv_mapper, data, k=5)\n"
      ],
      "metadata": {
        "id": "ocYa8zGIO7vs"
      },
      "execution_count": null,
      "outputs": []
    },
    {
      "cell_type": "markdown",
      "source": [
        "## Summary"
      ],
      "metadata": {
        "id": "xqCqeBB-yj_G"
      }
    },
    {
      "cell_type": "markdown",
      "source": [
        "**In summary**,\n",
        "\n",
        " this project aims to develop a user-friendly system  designed to enhance users' lifestyles and training routines. By leveraging personalized recommendations the system helps individuals make more informed decisions about their exercise regimens. The system also has the potential to support long-term fitness progress and improve overall well-being, making it a powerful tool for anyone looking to lead a healthier, more active lifestyle."
      ],
      "metadata": {
        "id": "UHcpCM0soQoM"
      }
    },
    {
      "cell_type": "markdown",
      "source": [
        "**Data Limitations and Improvements or Enhancements:**\n",
        "\n",
        "A limitation could be that there may be inherent bias in the dataset, such as specific workouts being overrepresented.\n",
        "\n",
        "An improvement would be additional features that are more user-specific, such as age, gender, or specific fitness goals. These aspects could further personalize recommendations. Another could be implementing feedback loops where users can rate or provide feedback on recommendations, allowing the system to learn and adapt in real-time to a user's preference."
      ],
      "metadata": {
        "id": "pmRrbZ-el40G"
      }
    },
    {
      "cell_type": "markdown",
      "source": [
        "**Conclusion:**\n",
        "\n",
        "This workout recommender system provides personalized workout recommendations using a blend of content-based and collaborative filtering approaches. It is a versatile solution for users with different preferences and fitness levels, offering both similarity-based recommendations and attribute-based filtering. The model can be enhanced with features like feedback mechanisms, hybrid weighting, and diversified suggestions for a more dynamic and adaptable recommendation experience. The visualizations and added functionality make this system valuable for tracking user preferences and refining workout suggestions over time."
      ],
      "metadata": {
        "id": "IFkMXMyFoQqu"
      }
    }
  ]
}